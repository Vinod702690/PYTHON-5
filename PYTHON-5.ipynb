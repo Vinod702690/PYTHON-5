{
 "cells": [
  {
   "cell_type": "raw",
   "id": "9906a903-b31f-42fb-860d-22a80c2169f5",
   "metadata": {},
   "source": [
    "Break and continue statement in Python"
   ]
  },
  {
   "cell_type": "code",
   "execution_count": 2,
   "id": "7b5f1594-7ee5-4c19-829d-7827da634977",
   "metadata": {},
   "outputs": [
    {
     "name": "stdout",
     "output_type": "stream",
     "text": [
      "i = 1\n",
      "i = 2\n",
      "i = 3\n",
      "i = 4\n",
      "break out\n"
     ]
    }
   ],
   "source": [
    "for i in range(1, 10):\n",
    "    if i == 5:  # when i is 5 exit the loop\n",
    "        break\n",
    "    print(\"i =\", i)\n",
    "\n",
    "print(\"break out\")"
   ]
  },
  {
   "cell_type": "code",
   "execution_count": 3,
   "id": "32da2691-4243-4b5a-8fc4-511ee53f70e9",
   "metadata": {},
   "outputs": [
    {
     "name": "stdin",
     "output_type": "stream",
     "text": [
      "Enter a number:  11\n"
     ]
    },
    {
     "name": "stdout",
     "output_type": "stream",
     "text": [
      "11 is prime\n"
     ]
    }
   ],
   "source": [
    "num = int(input(\"Enter a number: \"))\n",
    "\n",
    "is_prime = True\n",
    "\n",
    "for i in range(2, num):\n",
    "    if num % i == 0:\n",
    "        is_prime = False  # number is not prime\n",
    "        break  # exit from for loop\n",
    "\n",
    "if is_prime:\n",
    "    print(num, \"is prime\")\n",
    "else:\n",
    "    print(num, \"is not a prime\")"
   ]
  },
  {
   "cell_type": "code",
   "execution_count": 4,
   "id": "65db4fd1-5124-47a2-a186-7f72c120c688",
   "metadata": {},
   "outputs": [
    {
     "name": "stdin",
     "output_type": "stream",
     "text": [
      "Enter a number:  23\n"
     ]
    },
    {
     "name": "stdout",
     "output_type": "stream",
     "text": [
      "23 is prime\n"
     ]
    }
   ],
   "source": [
    "num = int(input(\"Enter a number: \"))\n",
    "\n",
    "is_prime = True\n",
    "\n",
    "for i in range(2, num):\n",
    "    if num % i == 0:\n",
    "        is_prime = False  # number is not prime\n",
    "        break  # exit from for loop\n",
    "\n",
    "if is_prime:\n",
    "    print(num, \"is prime\")\n",
    "else:\n",
    "    print(num, \"is not a prime\")"
   ]
  },
  {
   "cell_type": "code",
   "execution_count": 5,
   "id": "eeadbb3c-6d5d-4dee-8ba9-52b2fe6d234f",
   "metadata": {},
   "outputs": [
    {
     "name": "stdin",
     "output_type": "stream",
     "text": [
      "Enter a number:  6\n"
     ]
    },
    {
     "name": "stdout",
     "output_type": "stream",
     "text": [
      "6 is not a prime\n"
     ]
    }
   ],
   "source": [
    "num = int(input(\"Enter a number: \"))\n",
    "\n",
    "is_prime = True\n",
    "\n",
    "for i in range(2, num):\n",
    "    if num % i == 0:\n",
    "        is_prime = False  # number is not prime\n",
    "        break  # exit from for loop\n",
    "\n",
    "if is_prime:\n",
    "    print(num, \"is prime\")\n",
    "else:\n",
    "    print(num, \"is not a prime\")\n",
    "    "
   ]
  },
  {
   "cell_type": "code",
   "execution_count": 6,
   "id": "24a82a65-259c-4172-80a5-a269e39e4a97",
   "metadata": {},
   "outputs": [
    {
     "name": "stdout",
     "output_type": "stream",
     "text": [
      "Outer loop i =  1\n",
      "\n",
      "\tInner loop chr(j) = A\n",
      "\tInner loop chr(j) = B\n",
      "\tInner loop chr(j) = C\n",
      "\tbreaking out of inner for loop ...\n",
      "\n",
      "-------------------------------------------------\n",
      "Outer loop i =  2\n",
      "\n",
      "\tInner loop chr(j) = A\n",
      "\tInner loop chr(j) = B\n",
      "\tInner loop chr(j) = C\n",
      "\tbreaking out of inner for loop ...\n",
      "\n",
      "-------------------------------------------------\n",
      "Outer loop i =  3\n",
      "\n",
      "\tInner loop chr(j) = A\n",
      "\tInner loop chr(j) = B\n",
      "\tInner loop chr(j) = C\n",
      "\tbreaking out of inner for loop ...\n",
      "\n",
      "-------------------------------------------------\n",
      "Outer loop i =  4\n",
      "\n",
      "\tInner loop chr(j) = A\n",
      "\tInner loop chr(j) = B\n",
      "\tInner loop chr(j) = C\n",
      "\tbreaking out of inner for loop ...\n",
      "\n",
      "-------------------------------------------------\n"
     ]
    }
   ],
   "source": [
    "for i in range(1, 5):    \n",
    "    print(\"Outer loop i = \", i, end=\"\\n\\n\")\n",
    "    for j in range (65, 75):\n",
    "        print(\"\\tInner loop chr(j) =\", chr(j))\n",
    "        if chr(j) == 'C':\n",
    "            print(\"\\tbreaking out of inner for loop ...\\n\")\n",
    "            break\n",
    "    \n",
    "    print('-------------------------------------------------')"
   ]
  },
  {
   "cell_type": "code",
   "execution_count": 7,
   "id": "b91498c5-5300-4849-b8e7-91a2a69df7aa",
   "metadata": {},
   "outputs": [
    {
     "name": "stdout",
     "output_type": "stream",
     "text": [
      "i = 2\n",
      "i = 4\n",
      "i = 6\n",
      "i = 8\n"
     ]
    }
   ],
   "source": [
    "for i in range(1, 10):\n",
    "    if i % 2 != 0:\n",
    "        continue\n",
    "    print(\"i =\", i)"
   ]
  },
  {
   "cell_type": "code",
   "execution_count": 8,
   "id": "80e062b7-2506-4693-ade1-4135687da005",
   "metadata": {},
   "outputs": [
    {
     "name": "stdin",
     "output_type": "stream",
     "text": [
      "\n",
      "Enter a number:  5\n"
     ]
    },
    {
     "name": "stdout",
     "output_type": "stream",
     "text": [
      "Cube of 5 is 125\n"
     ]
    },
    {
     "name": "stdin",
     "output_type": "stream",
     "text": [
      "\n",
      "Enter a number:  6\n"
     ]
    },
    {
     "name": "stdout",
     "output_type": "stream",
     "text": [
      "Cube of 6 is 216\n"
     ]
    },
    {
     "name": "stdin",
     "output_type": "stream",
     "text": [
      "\n",
      "Enter a number:  7\n"
     ]
    },
    {
     "name": "stdout",
     "output_type": "stream",
     "text": [
      "Cube of 7 is 343\n"
     ]
    },
    {
     "name": "stdin",
     "output_type": "stream",
     "text": [
      "\n",
      "Enter a number:  3\n"
     ]
    },
    {
     "name": "stdout",
     "output_type": "stream",
     "text": [
      "Cube of 3 is 27\n"
     ]
    },
    {
     "name": "stdin",
     "output_type": "stream",
     "text": [
      "\n",
      "Enter a number:  AA\n"
     ]
    },
    {
     "name": "stdout",
     "output_type": "stream",
     "text": [
      "Enter digits only (continue statement executed)\n"
     ]
    },
    {
     "name": "stdin",
     "output_type": "stream",
     "text": [
      "\n",
      "Enter a number:  q\n"
     ]
    },
    {
     "name": "stdout",
     "output_type": "stream",
     "text": [
      "Exiting program (break statement executed)...\n"
     ]
    }
   ],
   "source": [
    "while True:\n",
    "    value = input(\"\\nEnter a number: \")\n",
    "\n",
    "    if value == 'q':  # if input is 'q' exit from the while loop\n",
    "        print(\"Exiting program (break statement executed)...\")\n",
    "        break\n",
    "\n",
    "    if not value.isdigit():  # if input is not a digit move on to the next iteration\n",
    "       print(\"Enter digits only (continue statement executed)\")\n",
    "       continue\n",
    "\n",
    "    value = int(value)\n",
    "    print(\"Cube of\", value, \"is\", value**3)  # everything is fine, just print the cube\n",
    "\n"
   ]
  },
  {
   "cell_type": "code",
   "execution_count": null,
   "id": "fb101c17-6dbc-4166-a245-99e0cfe8d9fc",
   "metadata": {},
   "outputs": [],
   "source": []
  }
 ],
 "metadata": {
  "kernelspec": {
   "display_name": "Python 3 (ipykernel)",
   "language": "python",
   "name": "python3"
  },
  "language_info": {
   "codemirror_mode": {
    "name": "ipython",
    "version": 3
   },
   "file_extension": ".py",
   "mimetype": "text/x-python",
   "name": "python",
   "nbconvert_exporter": "python",
   "pygments_lexer": "ipython3",
   "version": "3.12.3"
  }
 },
 "nbformat": 4,
 "nbformat_minor": 5
}
